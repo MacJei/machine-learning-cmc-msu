{
 "cells": [
  {
   "cell_type": "markdown",
   "metadata": {},
   "source": [
    "# Лабораторная работа 2. Метод ближайших соседей и решающие деревья."
   ]
  },
  {
   "cell_type": "markdown",
   "metadata": {},
   "source": [
    "ФИО: Каюмов Эмиль Марселевич\n",
    "\n",
    "Группа: 317"
   ]
  },
  {
   "cell_type": "code",
   "execution_count": 60,
   "metadata": {
    "collapsed": false
   },
   "outputs": [],
   "source": [
    "import numpy as np\n",
    "import pandas as pd\n",
    "\n",
    "from sklearn.metrics import roc_auc_score\n",
    "from sklearn.cross_validation import KFold\n",
    "from sklearn.grid_search import GridSearchCV\n",
    "\n",
    "from sklearn.neighbors import KNeighborsClassifier\n",
    "from sklearn.tree import DecisionTreeClassifier\n",
    "from sklearn.ensemble import RandomForestClassifier"
   ]
  },
  {
   "cell_type": "markdown",
   "metadata": {},
   "source": [
    "Все эксперименты в этой лабораторной работе предлагается проводить на данных соревнования Amazon Employee Access Challenge: https://www.kaggle.com/c/amazon-employee-access-challenge\n",
    "\n",
    "В данной задаче предлагается предсказать, будет ли одобрен запрос сотрудника на получение доступа к тому или иному ресурсу. Все признаки являются категориальными.\n",
    "\n",
    "Для удобства данные можно загрузить по ссылке: https://www.dropbox.com/s/q6fbs1vvhd5kvek/amazon.csv\n",
    "\n",
    "Сразу прочитаем данные и создадим разбиение на обучение и контроль:"
   ]
  },
  {
   "cell_type": "code",
   "execution_count": 4,
   "metadata": {
    "collapsed": false
   },
   "outputs": [
    {
     "data": {
      "text/html": [
       "<div>\n",
       "<table border=\"1\" class=\"dataframe\">\n",
       "  <thead>\n",
       "    <tr style=\"text-align: right;\">\n",
       "      <th></th>\n",
       "      <th>ACTION</th>\n",
       "      <th>RESOURCE</th>\n",
       "      <th>MGR_ID</th>\n",
       "      <th>ROLE_ROLLUP_1</th>\n",
       "      <th>ROLE_ROLLUP_2</th>\n",
       "      <th>ROLE_DEPTNAME</th>\n",
       "      <th>ROLE_TITLE</th>\n",
       "      <th>ROLE_FAMILY_DESC</th>\n",
       "      <th>ROLE_FAMILY</th>\n",
       "      <th>ROLE_CODE</th>\n",
       "    </tr>\n",
       "  </thead>\n",
       "  <tbody>\n",
       "    <tr>\n",
       "      <th>0</th>\n",
       "      <td>1</td>\n",
       "      <td>39353</td>\n",
       "      <td>85475</td>\n",
       "      <td>117961</td>\n",
       "      <td>118300</td>\n",
       "      <td>123472</td>\n",
       "      <td>117905</td>\n",
       "      <td>117906</td>\n",
       "      <td>290919</td>\n",
       "      <td>117908</td>\n",
       "    </tr>\n",
       "    <tr>\n",
       "      <th>1</th>\n",
       "      <td>1</td>\n",
       "      <td>17183</td>\n",
       "      <td>1540</td>\n",
       "      <td>117961</td>\n",
       "      <td>118343</td>\n",
       "      <td>123125</td>\n",
       "      <td>118536</td>\n",
       "      <td>118536</td>\n",
       "      <td>308574</td>\n",
       "      <td>118539</td>\n",
       "    </tr>\n",
       "    <tr>\n",
       "      <th>2</th>\n",
       "      <td>1</td>\n",
       "      <td>36724</td>\n",
       "      <td>14457</td>\n",
       "      <td>118219</td>\n",
       "      <td>118220</td>\n",
       "      <td>117884</td>\n",
       "      <td>117879</td>\n",
       "      <td>267952</td>\n",
       "      <td>19721</td>\n",
       "      <td>117880</td>\n",
       "    </tr>\n",
       "    <tr>\n",
       "      <th>3</th>\n",
       "      <td>1</td>\n",
       "      <td>36135</td>\n",
       "      <td>5396</td>\n",
       "      <td>117961</td>\n",
       "      <td>118343</td>\n",
       "      <td>119993</td>\n",
       "      <td>118321</td>\n",
       "      <td>240983</td>\n",
       "      <td>290919</td>\n",
       "      <td>118322</td>\n",
       "    </tr>\n",
       "    <tr>\n",
       "      <th>4</th>\n",
       "      <td>1</td>\n",
       "      <td>42680</td>\n",
       "      <td>5905</td>\n",
       "      <td>117929</td>\n",
       "      <td>117930</td>\n",
       "      <td>119569</td>\n",
       "      <td>119323</td>\n",
       "      <td>123932</td>\n",
       "      <td>19793</td>\n",
       "      <td>119325</td>\n",
       "    </tr>\n",
       "  </tbody>\n",
       "</table>\n",
       "</div>"
      ],
      "text/plain": [
       "   ACTION  RESOURCE  MGR_ID  ROLE_ROLLUP_1  ROLE_ROLLUP_2  ROLE_DEPTNAME  \\\n",
       "0       1     39353   85475         117961         118300         123472   \n",
       "1       1     17183    1540         117961         118343         123125   \n",
       "2       1     36724   14457         118219         118220         117884   \n",
       "3       1     36135    5396         117961         118343         119993   \n",
       "4       1     42680    5905         117929         117930         119569   \n",
       "\n",
       "   ROLE_TITLE  ROLE_FAMILY_DESC  ROLE_FAMILY  ROLE_CODE  \n",
       "0      117905            117906       290919     117908  \n",
       "1      118536            118536       308574     118539  \n",
       "2      117879            267952        19721     117880  \n",
       "3      118321            240983       290919     118322  \n",
       "4      119323            123932        19793     119325  "
      ]
     },
     "execution_count": 4,
     "metadata": {},
     "output_type": "execute_result"
    }
   ],
   "source": [
    "data = pd.read_csv('amazon.csv')\n",
    "data.head()"
   ]
  },
  {
   "cell_type": "code",
   "execution_count": 5,
   "metadata": {
    "collapsed": false
   },
   "outputs": [
    {
     "data": {
      "text/plain": [
       "(32769, 10)"
      ]
     },
     "execution_count": 5,
     "metadata": {},
     "output_type": "execute_result"
    }
   ],
   "source": [
    "data.shape"
   ]
  },
  {
   "cell_type": "code",
   "execution_count": 6,
   "metadata": {
    "collapsed": false
   },
   "outputs": [
    {
     "data": {
      "text/plain": [
       "0.94210992096188473"
      ]
     },
     "execution_count": 6,
     "metadata": {},
     "output_type": "execute_result"
    }
   ],
   "source": [
    "# доля положительных примеров\n",
    "data.ACTION.mean()"
   ]
  },
  {
   "cell_type": "code",
   "execution_count": 7,
   "metadata": {
    "collapsed": false
   },
   "outputs": [
    {
     "name": "stdout",
     "output_type": "stream",
     "text": [
      "ACTION 2\n",
      "RESOURCE 7518\n",
      "MGR_ID 4243\n",
      "ROLE_ROLLUP_1 128\n",
      "ROLE_ROLLUP_2 177\n",
      "ROLE_DEPTNAME 449\n",
      "ROLE_TITLE 343\n",
      "ROLE_FAMILY_DESC 2358\n",
      "ROLE_FAMILY 67\n",
      "ROLE_CODE 343\n"
     ]
    }
   ],
   "source": [
    "# число значений у признаков\n",
    "for col_name in data.columns:\n",
    "    print col_name, len(data[col_name].unique())"
   ]
  },
  {
   "cell_type": "code",
   "execution_count": 8,
   "metadata": {
    "collapsed": true
   },
   "outputs": [],
   "source": [
    "from sklearn.cross_validation import train_test_split\n",
    "X_train, X_test, y_train, y_test = train_test_split(data.iloc[:, 1:], data.iloc[:, 0],\n",
    "                                                    test_size=0.3, random_state=241)"
   ]
  },
  {
   "cell_type": "markdown",
   "metadata": {},
   "source": [
    "## Часть 1: kNN и категориальные признаки"
   ]
  },
  {
   "cell_type": "markdown",
   "metadata": {},
   "source": [
    "#### 1. Реализуйте три функции расстояния на категориальных признаках, которые обсуждались на втором семинаре. Реализуйте самостоятельно метод k ближайших соседей, который будет уметь работать с этими функциями расстояния (учитите, что он должен возвращать вероятность — отношение объектов первого класса среди соседей к числу соседей). Как вариант, можно реализовать метрики как [user-defined distance](http://scikit-learn.org/stable/modules/generated/sklearn.neighbors.DistanceMetric.html), после чего воспользоваться реализацией kNN из sklearn (в этом случае используйте функцию predict_proba).\n",
    "\n",
    "#### Подсчитайте для каждой из метрик качество на тестовой выборке `X_test` при числе соседей $k = 10$. Мера качества — AUC-ROC.\n",
    "\n",
    "Какая функция расстояния оказалась лучшей?"
   ]
  },
  {
   "cell_type": "markdown",
   "metadata": {},
   "source": [
    "Для удобства дальнейшей работы переведём данные numpy-массивы."
   ]
  },
  {
   "cell_type": "code",
   "execution_count": 9,
   "metadata": {
    "collapsed": true
   },
   "outputs": [],
   "source": [
    "X_train = np.array(X_train)\n",
    "X_test = np.array(X_test)\n",
    "y_train = np.array(y_train)\n",
    "y_test = np.array(y_test)"
   ]
  },
  {
   "cell_type": "markdown",
   "metadata": {},
   "source": [
    "Приготовим для каждого признака массивы $f$ и $p^2$. Для удобства для каждого признака построим словарь существующих в обучающей выборке категорий. Для скорости посчитаем логарифмы $f$ заранее (третья метрика начинает работать почти в три раза быстрее)."
   ]
  },
  {
   "cell_type": "code",
   "execution_count": 34,
   "metadata": {
    "collapsed": false
   },
   "outputs": [],
   "source": [
    "X_train = np.array(X_train, dtype='int64')\n",
    "\n",
    "f = []\n",
    "for i in range(X_train.shape[1]):\n",
    "    dic = dict(zip(X_train[:, i], np.zeros(len(X_train[:, i]))))\n",
    "    for key in dic.keys():\n",
    "        dic[key] = float(np.sum(X_train[:, i] == key))\n",
    "    f.append(dic)\n",
    "   \n",
    "p = []\n",
    "for i in range(X_train.shape[1]):\n",
    "    dic = dict(f[i])\n",
    "    for key in dic.keys():\n",
    "        dic[key] = dic[key] / X_train.shape[0] \n",
    "    p.append(dic)\n",
    "\n",
    "p2 = []\n",
    "for i in range(X_train.shape[1]):\n",
    "    dic = dict(f[i])\n",
    "    for key in dic.keys():\n",
    "        dic[key] = (dic[key] * (dic[key] - 1)) / (X_train.shape[0] * (X_train.shape[0] - 1))\n",
    "    p2.append(dic)\n",
    "\n",
    "flog = []\n",
    "for i in range(X_train.shape[1]):\n",
    "    dic = {}\n",
    "    for key in f[i].keys():\n",
    "        dic[key] = np.log(f[i][key])\n",
    "    flog.append(dic)"
   ]
  },
  {
   "cell_type": "markdown",
   "metadata": {},
   "source": [
    "Реализуем метрики по формулам с семинара."
   ]
  },
  {
   "cell_type": "code",
   "execution_count": 49,
   "metadata": {
    "collapsed": true
   },
   "outputs": [],
   "source": [
    "def metric_1(X, Y):\n",
    "    return np.sum((X[:, np.newaxis] != Y[np.newaxis, :]), axis=2)"
   ]
  },
  {
   "cell_type": "code",
   "execution_count": 50,
   "metadata": {
    "collapsed": true
   },
   "outputs": [],
   "source": [
    "def metric_2(X, Y):\n",
    "    result = np.zeros((X.shape[0], Y.shape[0]))\n",
    "    pp2 = [np.array(p2[x].values()) for x in range(X.shape[1])]\n",
    "    pp = [np.array(p[x].values()) for x in range(X.shape[1])]\n",
    "    for i, x in enumerate(X):\n",
    "        for j, y in enumerate(Y):\n",
    "            for t in range(X.shape[1]):\n",
    "                if x[t] == y[t] and x[t] in p2[t]:\n",
    "                    result[i, j] += np.sum(pp2[t][pp[t] <= p[t].get(x[t], 0)])\n",
    "    return result + metric_1(X, Y)"
   ]
  },
  {
   "cell_type": "markdown",
   "metadata": {},
   "source": [
    "Реализуем третью метрику. Путём проб выяснено, что тройной цикл работает быстрее, чем если генерировать матрицу попарных расстояний через тройной вложенный генератор списков (с этой мыслью была реализована и вторая метрика)."
   ]
  },
  {
   "cell_type": "code",
   "execution_count": 51,
   "metadata": {
    "collapsed": true
   },
   "outputs": [],
   "source": [
    "def metric_3(X, Y):\n",
    "    result = np.zeros((X.shape[0], Y.shape[0]))\n",
    "    for i, x in enumerate(X):\n",
    "        for j, y in enumerate(Y):\n",
    "            for t in range(X.shape[1]):\n",
    "                if x[t] != y[t]:\n",
    "                    result[i, j] += flog[t].get(x[t], 0) * flog[t].get(y[t], 0)\n",
    "    return result"
   ]
  },
  {
   "cell_type": "markdown",
   "metadata": {},
   "source": [
    "Реализуем метод k ближайших соседей, возвращающий вероятность принадлежности объекта из теста классу 1 как долю объектов класса 1 среди k ближайших соседей. "
   ]
  },
  {
   "cell_type": "code",
   "execution_count": 52,
   "metadata": {
    "collapsed": true
   },
   "outputs": [],
   "source": [
    "def knn(X_train, y_train, X_test, k, metric):\n",
    "    return np.sum(y_train[metric(X_test, X_train).argsort(axis=1)[:, :k]], axis=1) / float(k)"
   ]
  },
  {
   "cell_type": "markdown",
   "metadata": {},
   "source": [
    "Проверим первую метрику при k = 10:"
   ]
  },
  {
   "cell_type": "code",
   "execution_count": 53,
   "metadata": {
    "collapsed": false
   },
   "outputs": [
    {
     "name": "stdout",
     "output_type": "stream",
     "text": [
      "auc = 0.83088009598\n"
     ]
    }
   ],
   "source": [
    "y_predict = knn(X_train, y_train, X_test, 10, metric_1)\n",
    "print 'auc =', roc_auc_score(y_test, y_predict)"
   ]
  },
  {
   "cell_type": "markdown",
   "metadata": {},
   "source": [
    "Проверим вторую метрику при k = 10:"
   ]
  },
  {
   "cell_type": "code",
   "execution_count": 54,
   "metadata": {
    "collapsed": false
   },
   "outputs": [
    {
     "name": "stdout",
     "output_type": "stream",
     "text": [
      "auc = 0.832873632128\n"
     ]
    }
   ],
   "source": [
    "y_predict = knn(X_train, y_train, X_test, 10, metric_2)\n",
    "print 'auc =', roc_auc_score(y_test, y_predict)"
   ]
  },
  {
   "cell_type": "markdown",
   "metadata": {},
   "source": [
    "Проверим третью метрику при k = 10:"
   ]
  },
  {
   "cell_type": "code",
   "execution_count": 55,
   "metadata": {
    "collapsed": false
   },
   "outputs": [
    {
     "name": "stdout",
     "output_type": "stream",
     "text": [
      "auc = 0.817053027738\n"
     ]
    }
   ],
   "source": [
    "y_predict = knn(X_train, y_train, X_test, 10, metric_3)\n",
    "print 'auc =', roc_auc_score(y_test, y_predict)"
   ]
  },
  {
   "cell_type": "markdown",
   "metadata": {},
   "source": [
    "Лучший результат показала вторая метрика (**0.833**). Однако результат первой метрики (**0.831**) незначительно уступила второй. Это можно объяснить тем, что значение второй метрики являлось суммой двух слагаемых, одно из которых являлось первой метрикой, а второе принимало заметно меньшие значения. Третья метрика показала чуть более низкий результат (**0.817**)."
   ]
  },
  {
   "cell_type": "markdown",
   "metadata": {},
   "source": [
    "#### 2 (бонус). Подберите лучшее (на тестовой выборке) число соседей $k$ для каждой из функций расстояния. Какое наилучшее качество удалось достичь?"
   ]
  },
  {
   "cell_type": "markdown",
   "metadata": {
    "collapsed": true
   },
   "source": [
    "Реализуем функцию для поиска наилучшего параметра k."
   ]
  },
  {
   "cell_type": "code",
   "execution_count": 56,
   "metadata": {
    "collapsed": true
   },
   "outputs": [],
   "source": [
    "def find_best_k(X_train, y_train, X_test, y_test, metric):\n",
    "    K = range(1, 16)\n",
    "    auc = np.zeros(15)\n",
    "    index = metric(X_test, X_train).argsort(axis=1)\n",
    "    for i, k in enumerate(K):\n",
    "        y_predict = np.sum(y_train[index[:, :k]], axis=1) / float(k)\n",
    "        auc[i] = roc_auc_score(y_test, y_predict)\n",
    "    return np.argmax(auc) + 1, np.max(auc)"
   ]
  },
  {
   "cell_type": "markdown",
   "metadata": {},
   "source": [
    "Найдём наилучший параметр k для первой метрики."
   ]
  },
  {
   "cell_type": "code",
   "execution_count": 57,
   "metadata": {
    "collapsed": false
   },
   "outputs": [
    {
     "name": "stdout",
     "output_type": "stream",
     "text": [
      "best k = 11\n",
      "auc = 0.831201958708\n"
     ]
    }
   ],
   "source": [
    "k, auc = find_best_k(X_train, y_train, X_test, y_test, metric_1)\n",
    "print 'best k =', k\n",
    "print 'auc =', auc"
   ]
  },
  {
   "cell_type": "markdown",
   "metadata": {},
   "source": [
    "Найдём наилучший параметр k для второй метрики."
   ]
  },
  {
   "cell_type": "code",
   "execution_count": 58,
   "metadata": {
    "collapsed": false
   },
   "outputs": [
    {
     "name": "stdout",
     "output_type": "stream",
     "text": [
      "best k = 7\n",
      "auc = 0.836160998935\n"
     ]
    }
   ],
   "source": [
    "k, auc = find_best_k(X_train, y_train, X_test, y_test, metric_2)\n",
    "print 'best k =', k\n",
    "print 'auc =', auc"
   ]
  },
  {
   "cell_type": "markdown",
   "metadata": {},
   "source": [
    "Найдём наилучший параметр k для третьей метрики."
   ]
  },
  {
   "cell_type": "code",
   "execution_count": 59,
   "metadata": {
    "collapsed": false
   },
   "outputs": [
    {
     "name": "stdout",
     "output_type": "stream",
     "text": [
      "best k = 11\n",
      "auc = 0.817141176073\n"
     ]
    }
   ],
   "source": [
    "k, auc = find_best_k(X_train, y_train, X_test, y_test, metric_3)\n",
    "print 'best k =', k\n",
    "print 'auc =', auc"
   ]
  },
  {
   "cell_type": "markdown",
   "metadata": {},
   "source": [
    "Наилучший результат (**0.836**) достигнут на второй метрике с k = 7. Для первой и третьей метрики лучшим оказался k = 11."
   ]
  },
  {
   "cell_type": "markdown",
   "metadata": {},
   "source": [
    "#### 3. Реализуйте счетчики (http://blogs.technet.com/b/machinelearning/archive/2015/02/17/big-learning-made-easy-with-counts.aspx), которые заменят категориальные признаки на вещественные.\n",
    "\n",
    "А именно, каждый категориальный признак нужно заменить на три: \n",
    "1. Число `counts` объектов в обучающей выборке с таким же значением признака.\n",
    "2. Число `clicks` объектов первого класса ($y = 1$) в обучающей выборке с таким же значением признака.\n",
    "3. Сглаженное отношение двух предыдущих величин: (`clicks` + 1) / (`counts` + 2).\n",
    "\n",
    "Поскольку признаки, содержащие информацию о целевой переменной, могут привести к переобучению, может оказаться полезным сделать *фолдинг*: разбить обучающую выборку на $n$ частей, и для $i$-й части считать `counts` и `clicks` по всем остальным частям. Для тестовой выборки используются счетчики, посчитанный по всей обучающей выборке. Реализуйте и такой вариант. Можно использовать $n = 3$.\n",
    "\n",
    "#### Посчитайте на тесте AUC-ROC метода $k$ ближайших соседей с евклидовой метрикой для выборки, где категориальные признаки заменены на счетчики. Сравните по AUC-ROC два варианта формирования выборки — с фолдингом и без. Не забудьте подобрать наилучшее число соседей $k$."
   ]
  },
  {
   "cell_type": "markdown",
   "metadata": {},
   "source": [
    "Реализуем функцию для подсчёта вещественных признаков по категориальным. Аргумент folds отвечает за фолдинг, а n_folds за количество фолдов."
   ]
  },
  {
   "cell_type": "code",
   "execution_count": 22,
   "metadata": {
    "collapsed": false
   },
   "outputs": [],
   "source": [
    "def preprocess(X_train, X_test, y_train, folds=False, n_folds=1):\n",
    "    \n",
    "    X_train_new = np.zeros((X_train.shape[0], 0))\n",
    "    X_test_new = np.zeros((X_test.shape[0], 0))\n",
    "    \n",
    "    for i in range(X_train.shape[1]):\n",
    "        \n",
    "        counts_test = np.zeros((X_test.shape[0], 1))\n",
    "        clicks_test = np.zeros((X_test.shape[0], 1))\n",
    "        for j in range(counts_test.shape[0]):\n",
    "            counts_test[j] = np.sum(X_test[j, i] == X_train[:, i])\n",
    "            clicks_test[j] = np.sum((X_test[j, i] == X_train[:, i]) & (y_train == 1))\n",
    "        \n",
    "        if folds == False:\n",
    "            counts_train = np.zeros((X_train.shape[0], 1))\n",
    "            clicks_train = np.zeros((X_train.shape[0], 1))\n",
    "            for j in range(counts_train.shape[0]):\n",
    "                counts_train[j] = np.sum(X_train[j, i] == X_train[:, i])\n",
    "                clicks_train[j] = np.sum((X_train[j, i] == X_train[:, i]) & (y_train == 1))\n",
    "\n",
    "        else: \n",
    "            fold_size = X_train.shape[0] // n_folds\n",
    "            counts_train = np.zeros((0, 1))\n",
    "            clicks_train = np.zeros((0, 1))\n",
    "           \n",
    "            for ind in range(n_folds):\n",
    "        \n",
    "                if ind == n_folds - 1 and fold_size * n_folds != X_train.shape[0]:\n",
    "                    X_train_current = X_train[fold_size * ind:, i]\n",
    "                    X_train_other = X_train[:fold_size * ind, i]\n",
    "                    y_train_other = y_train[:fold_size * ind]\n",
    "                else:\n",
    "                    X_train_current = X_train[fold_size * ind : fold_size * (ind + 1), i]\n",
    "                    X_train_other = np.hstack((X_train[:fold_size * ind, i], X_train[fold_size * (ind + 1):, i]))\n",
    "                    y_train_other = np.hstack((y_train[:fold_size * ind], y_train[fold_size * (ind + 1):]))\n",
    "            \n",
    "                counts_train_part = np.zeros((X_train_current.shape[0], 1))\n",
    "                clicks_train_part = np.zeros((X_train_current.shape[0], 1))\n",
    "                \n",
    "                for j in range(counts_train_part.shape[0]):\n",
    "                    counts_train_part[j] = np.sum(X_train_current[j] == X_train_other)\n",
    "                    clicks_train_part[j] = np.sum((X_train_current[j] == X_train_other) & (y_train_other == 1))\n",
    "                \n",
    "                counts_train = np.vstack((counts_train, counts_train_part))\n",
    "                clicks_train = np.vstack((clicks_train, clicks_train_part))\n",
    "                \n",
    "            # масштабируем\n",
    "            counts_train *= n_folds / (n_folds - 1)\n",
    "            clicks_train *= n_folds / (n_folds - 1)\n",
    "            \n",
    "        X_train_new = np.hstack((X_train_new, counts_train, clicks_train, (clicks_train + 1) / (counts_train + 2)))\n",
    "        X_test_new = np.hstack((X_test_new, counts_test, clicks_test, (clicks_test + 1) / (counts_test + 2)))\n",
    "    \n",
    "    return X_train_new, X_test_new"
   ]
  },
  {
   "cell_type": "markdown",
   "metadata": {},
   "source": [
    "Преобразуем признаки (без фолдинга)."
   ]
  },
  {
   "cell_type": "code",
   "execution_count": 25,
   "metadata": {
    "collapsed": false
   },
   "outputs": [
    {
     "name": "stdout",
     "output_type": "stream",
     "text": [
      "(22938, 27) (9831, 27)\n"
     ]
    }
   ],
   "source": [
    "X_train_count, X_test_count = preprocess(X_train, X_test, y_train)\n",
    "print X_train_count.shape, X_test_count.shape"
   ]
  },
  {
   "cell_type": "markdown",
   "metadata": {},
   "source": [
    "Преобразуем признаки (с фолдингом, n = 3)."
   ]
  },
  {
   "cell_type": "code",
   "execution_count": 23,
   "metadata": {
    "collapsed": false
   },
   "outputs": [
    {
     "name": "stdout",
     "output_type": "stream",
     "text": [
      "(22938, 27) (9831, 27)\n"
     ]
    }
   ],
   "source": [
    "X_train_count_fold, X_test_count_fold = preprocess(X_train, X_test, y_train, folds=True, n_folds=3)\n",
    "print X_train_count_fold.shape, X_test_count_fold.shape"
   ]
  },
  {
   "cell_type": "markdown",
   "metadata": {},
   "source": [
    "Подберём параметр k для выборки без фолдинга."
   ]
  },
  {
   "cell_type": "code",
   "execution_count": 133,
   "metadata": {
    "collapsed": false
   },
   "outputs": [
    {
     "name": "stdout",
     "output_type": "stream",
     "text": [
      "best score = 0.771369947151\n",
      "KNeighborsClassifier(algorithm='auto', leaf_size=30, metric='minkowski',\n",
      "           metric_params=None, n_neighbors=12, p=2, weights='uniform')\n"
     ]
    }
   ],
   "source": [
    "cv = KFold(X_train_count.shape[0], n_folds=5, shuffle=True)\n",
    "gs = GridSearchCV(KNeighborsClassifier(),\n",
    "                  param_grid={'n_neighbors': [8, 10, 12, 14, 16, 18, 20]},\n",
    "                  cv=cv,\n",
    "                  scoring='roc_auc')\n",
    "gs.fit(X_train_count, y_train)\n",
    "print 'best score =', gs.best_score_\n",
    "print gs.best_estimator_"
   ]
  },
  {
   "cell_type": "markdown",
   "metadata": {},
   "source": [
    "Запустим на тестовой выборке для подобранных параметров."
   ]
  },
  {
   "cell_type": "code",
   "execution_count": 26,
   "metadata": {
    "collapsed": false
   },
   "outputs": [
    {
     "name": "stdout",
     "output_type": "stream",
     "text": [
      "auc = 0.791252971524\n"
     ]
    }
   ],
   "source": [
    "neigh = KNeighborsClassifier(algorithm='auto', leaf_size=30, metric='minkowski', metric_params=None, n_neighbors=12, \n",
    "                             p=2, weights='uniform')\n",
    "neigh.fit(X_train_count, y_train)\n",
    "y_predict = neigh.predict_proba(X_test_count)\n",
    "print 'auc =', roc_auc_score(y_test, y_predict[:,1])"
   ]
  },
  {
   "cell_type": "markdown",
   "metadata": {},
   "source": [
    "Подберём параметр k для выборки с фолдингом."
   ]
  },
  {
   "cell_type": "code",
   "execution_count": 134,
   "metadata": {
    "collapsed": false
   },
   "outputs": [
    {
     "name": "stdout",
     "output_type": "stream",
     "text": [
      "best score = 0.744147377107\n",
      "KNeighborsClassifier(algorithm='auto', leaf_size=30, metric='minkowski',\n",
      "           metric_params=None, n_neighbors=14, p=2, weights='uniform')\n"
     ]
    }
   ],
   "source": [
    "cv = KFold(X_train_count_fold.shape[0], n_folds=5, shuffle=True)\n",
    "gs = GridSearchCV(KNeighborsClassifier(),\n",
    "                  param_grid={'n_neighbors': [8, 10, 12, 14, 16, 18, 20]},\n",
    "                  cv=cv,\n",
    "                  scoring='roc_auc')\n",
    "gs.fit(X_train_count_fold, y_train)\n",
    "print 'best score =', gs.best_score_\n",
    "print gs.best_estimator_"
   ]
  },
  {
   "cell_type": "markdown",
   "metadata": {},
   "source": [
    "Запустим на тестовой выборке для подобранного параметра."
   ]
  },
  {
   "cell_type": "code",
   "execution_count": 24,
   "metadata": {
    "collapsed": false
   },
   "outputs": [
    {
     "name": "stdout",
     "output_type": "stream",
     "text": [
      "auc = 0.574670805056\n"
     ]
    }
   ],
   "source": [
    "neigh = KNeighborsClassifier(algorithm='auto', leaf_size=30, metric='minkowski', metric_params=None, n_neighbors=14, \n",
    "                             p=2, weights='uniform')\n",
    "neigh.fit(X_train_count_fold, y_train)\n",
    "y_predict = neigh.predict_proba(X_test_count_fold)\n",
    "print 'auc =', roc_auc_score(y_test, y_predict[:,1])"
   ]
  },
  {
   "cell_type": "markdown",
   "metadata": {},
   "source": [
    "Получаем, что kNN не переобучается на выборке без фолдинга. Результат даже падает при использовании фолдинга (**0.57** против **0.79** без фолдинга)."
   ]
  },
  {
   "cell_type": "markdown",
   "metadata": {},
   "source": [
    "#### 4. Добавьте в исходную выборку парные признаки — то есть для каждой пары $f_i$, $f_j$ исходных категориальных признаков добавьте новый категориальный признак $f_{ij}$, значение которого является конкатенацией значений $f_i$ и $f_j$. Посчитайте счетчики для этой выборки, найдите качество метода $k$ ближайших соседей с наилучшим $k$ (с фолдингом и без)."
   ]
  },
  {
   "cell_type": "markdown",
   "metadata": {},
   "source": [
    "Добавим парные признаки."
   ]
  },
  {
   "cell_type": "code",
   "execution_count": 159,
   "metadata": {
    "collapsed": false
   },
   "outputs": [],
   "source": [
    "X_train_pairwise = np.array(X_train)\n",
    "X_test_pairwise = np.array(X_test)\n",
    "\n",
    "for i in range(X_train.shape[1]):\n",
    "    for j in range(X_train.shape[1]):\n",
    "        if i != j:\n",
    "            train = np.zeros((X_train.shape[0], 1))\n",
    "            test = np.zeros((X_test.shape[0], 1))\n",
    "            for ind in range(X_train.shape[0]):\n",
    "                train[ind] = int(str(X_train[ind, i]) + str(X_train[ind, j]))\n",
    "            for ind in range(X_test.shape[0]):\n",
    "                test[ind] = int(str(X_test[ind, i]) + str(X_test[ind, j]))\n",
    "            X_train_pairwise = np.hstack((X_train_pairwise, train))\n",
    "            X_test_pairwise = np.hstack((X_test_pairwise, test))"
   ]
  },
  {
   "cell_type": "markdown",
   "metadata": {},
   "source": [
    "Преобразуем выборку."
   ]
  },
  {
   "cell_type": "code",
   "execution_count": 162,
   "metadata": {
    "collapsed": false
   },
   "outputs": [],
   "source": [
    "X_train_pairwise_count, X_test_pairwise_count = preprocess(X_train_pairwise, X_test_pairwise, y_train)\n",
    "X_train_pairwise_count_fold, X_test_pairwise_count_fold = preprocess(X_train_pairwise, X_test_pairwise, y_train, \n",
    "                                                                     folds=True, n_folds=3)"
   ]
  },
  {
   "cell_type": "markdown",
   "metadata": {},
   "source": [
    "Подберём значение k для выборки без фолдинга."
   ]
  },
  {
   "cell_type": "code",
   "execution_count": 165,
   "metadata": {
    "collapsed": false
   },
   "outputs": [
    {
     "name": "stdout",
     "output_type": "stream",
     "text": [
      "best score = 0.772132599652\n",
      "KNeighborsClassifier(algorithm='auto', leaf_size=30, metric='minkowski',\n",
      "           metric_params=None, n_neighbors=14, p=2, weights='uniform')\n"
     ]
    }
   ],
   "source": [
    "cv = KFold(X_train_pairwise_count.shape[0], n_folds=5, shuffle=True)\n",
    "gs = GridSearchCV(KNeighborsClassifier(),\n",
    "                  param_grid={'n_neighbors': [8, 10, 12, 14, 16, 18, 20]},\n",
    "                  cv=cv,\n",
    "                  scoring='roc_auc')\n",
    "gs.fit(X_train_pairwise_count, y_train)\n",
    "print 'best score =', gs.best_score_\n",
    "print gs.best_estimator_"
   ]
  },
  {
   "cell_type": "markdown",
   "metadata": {},
   "source": [
    "Проверим на тестовой выборке для подобранных параметров."
   ]
  },
  {
   "cell_type": "code",
   "execution_count": 330,
   "metadata": {
    "collapsed": false
   },
   "outputs": [
    {
     "name": "stdout",
     "output_type": "stream",
     "text": [
      "auc = 0.798078042816\n"
     ]
    }
   ],
   "source": [
    "neigh = KNeighborsClassifier(algorithm='auto', leaf_size=30, metric='minkowski', metric_params=None, n_neighbors=14, \n",
    "                             p=2, weights='uniform')\n",
    "neigh.fit(X_train_pairwise_count, y_train)\n",
    "y_predict = neigh.predict_proba(X_test_pairwise_count)\n",
    "print 'auc =', roc_auc_score(y_test, y_predict[:,1])"
   ]
  },
  {
   "cell_type": "markdown",
   "metadata": {},
   "source": [
    "Подберём значение k для выборки с фолдингом."
   ]
  },
  {
   "cell_type": "code",
   "execution_count": 166,
   "metadata": {
    "collapsed": false
   },
   "outputs": [
    {
     "name": "stdout",
     "output_type": "stream",
     "text": [
      "best score = 0.758127156365\n",
      "KNeighborsClassifier(algorithm='auto', leaf_size=30, metric='minkowski',\n",
      "           metric_params=None, n_neighbors=18, p=2, weights='uniform')\n"
     ]
    }
   ],
   "source": [
    "cv = KFold(X_train_pairwise_count_fold.shape[0], n_folds=5, shuffle=True)\n",
    "gs = GridSearchCV(KNeighborsClassifier(),\n",
    "                  param_grid={'n_neighbors': [8, 10, 12, 14, 16, 18, 20]},\n",
    "                  cv=cv,\n",
    "                  scoring='roc_auc')\n",
    "gs.fit(X_train_pairwise_count_fold, y_train)\n",
    "print 'best score =', gs.best_score_\n",
    "print gs.best_estimator_"
   ]
  },
  {
   "cell_type": "markdown",
   "metadata": {},
   "source": [
    "Проверим на тестовой выборке для подобранных параметров."
   ]
  },
  {
   "cell_type": "code",
   "execution_count": 331,
   "metadata": {
    "collapsed": false
   },
   "outputs": [
    {
     "name": "stdout",
     "output_type": "stream",
     "text": [
      "auc = 0.590832051993\n"
     ]
    }
   ],
   "source": [
    "neigh = KNeighborsClassifier(algorithm='auto', leaf_size=30, metric='minkowski', metric_params=None, n_neighbors=18, \n",
    "                             p=2, weights='uniform')\n",
    "neigh.fit(X_train_pairwise_count_fold, y_train)\n",
    "y_predict = neigh.predict_proba(X_test_pairwise_count_fold)\n",
    "print 'auc =', roc_auc_score(y_test, y_predict[:,1])"
   ]
  },
  {
   "cell_type": "markdown",
   "metadata": {},
   "source": [
    "Для выборки с парными признаками результаты аналогичны: kNN работает лучше на выборке без фолдинга (**0.8** против **0.59** с фолдингом). Парные признаки немного увеличили результат (**0.8** против **0.79**)."
   ]
  },
  {
   "cell_type": "markdown",
   "metadata": {},
   "source": [
    "## Часть 2: Решающие деревья и леса"
   ]
  },
  {
   "cell_type": "markdown",
   "metadata": {},
   "source": [
    "#### 1. Возьмите из предыдущей части выборку с парными признаками, преобразованную с помощью счетчиков без фолдинга. Настройте решающее дерево, подобрав оптимальные значения параметров `max_depth` и `min_samples_leaf`. Какой наилучший AUC-ROC на контроле удалось получить?"
   ]
  },
  {
   "cell_type": "code",
   "execution_count": 326,
   "metadata": {
    "collapsed": false
   },
   "outputs": [
    {
     "name": "stdout",
     "output_type": "stream",
     "text": [
      "best score = 0.999566130313\n",
      "DecisionTreeClassifier(class_weight=None, criterion='gini', max_depth=3,\n",
      "            max_features=None, max_leaf_nodes=None, min_samples_leaf=4,\n",
      "            min_samples_split=2, min_weight_fraction_leaf=0.0,\n",
      "            random_state=None, splitter='best')\n"
     ]
    }
   ],
   "source": [
    "cv = KFold(X_train_pairwise_count.shape[0], n_folds=5, shuffle=True)\n",
    "gs = GridSearchCV(DecisionTreeClassifier(),\n",
    "                  param_grid={'max_depth': [2, 3, 6, 9],\n",
    "                              'min_samples_leaf': [2, 4, 6, 8, 10]},\n",
    "                  cv=cv,\n",
    "                  scoring='roc_auc')\n",
    "gs.fit(X_train_pairwise_count, y_train)\n",
    "print 'best score =', gs.best_score_\n",
    "print gs.best_estimator_"
   ]
  },
  {
   "cell_type": "code",
   "execution_count": 327,
   "metadata": {
    "collapsed": false
   },
   "outputs": [
    {
     "name": "stdout",
     "output_type": "stream",
     "text": [
      "auc = 0.538328980728\n"
     ]
    }
   ],
   "source": [
    "dt = DecisionTreeClassifier(class_weight=None, criterion='gini', max_depth=3, max_features=None, max_leaf_nodes=None, \n",
    "                            min_samples_leaf=4, min_samples_split=2, min_weight_fraction_leaf=0.0, random_state=None, \n",
    "                            splitter='best')\n",
    "dt.fit(X_train_pairwise_count, y_train)\n",
    "y_predict = dt.predict_proba(X_test_pairwise_count)\n",
    "print 'auc =', roc_auc_score(y_test, y_predict[:,1])"
   ]
  },
  {
   "cell_type": "markdown",
   "metadata": {},
   "source": [
    "Видим, как переобучились на выборке без фолдинга (**0.54** после 0.9996 на кросс-валидации)."
   ]
  },
  {
   "cell_type": "markdown",
   "metadata": {},
   "source": [
    "#### 2. Настройте случайный лес, подобрав оптимальное число деревьев `n_estimators`. Какое качество на тестовой выборке он дает?"
   ]
  },
  {
   "cell_type": "code",
   "execution_count": 191,
   "metadata": {
    "collapsed": false,
    "scrolled": true
   },
   "outputs": [
    {
     "name": "stdout",
     "output_type": "stream",
     "text": [
      "best score = 0.999980782368\n",
      "RandomForestClassifier(bootstrap=True, class_weight=None, criterion='gini',\n",
      "            max_depth=15, max_features='auto', max_leaf_nodes=None,\n",
      "            min_samples_leaf=10, min_samples_split=2,\n",
      "            min_weight_fraction_leaf=0.0, n_estimators=1000, n_jobs=1,\n",
      "            oob_score=False, random_state=None, verbose=0,\n",
      "            warm_start=False)\n"
     ]
    }
   ],
   "source": [
    "cv = KFold(X_train_pairwise_count.shape[0], n_folds=5, shuffle=True)\n",
    "gs = GridSearchCV(RandomForestClassifier(),\n",
    "                  param_grid={'n_estimators': [10, 20, 50, 100, 500, 1000]},\n",
    "                  cv=cv,\n",
    "                  scoring='roc_auc')\n",
    "gs.fit(X_train_pairwise_count, y_train)\n",
    "print 'best score =', gs.best_score_\n",
    "print gs.best_estimator_"
   ]
  },
  {
   "cell_type": "markdown",
   "metadata": {},
   "source": [
    "Чем больше деревьев, тем лучше! Но куда ещё лучше?\n",
    "\n",
    "Проверим на тестовой выборке."
   ]
  },
  {
   "cell_type": "code",
   "execution_count": 192,
   "metadata": {
    "collapsed": false
   },
   "outputs": [
    {
     "name": "stdout",
     "output_type": "stream",
     "text": [
      "auc = 0.729228801808\n"
     ]
    }
   ],
   "source": [
    "rf = RandomForestClassifier(bootstrap=True, class_weight=None, criterion='gini', max_depth=15, max_features='auto', \n",
    "                            max_leaf_nodes=None, min_samples_leaf=10, min_samples_split=2, \n",
    "                            min_weight_fraction_leaf=0.0, n_estimators=1000, n_jobs=1, oob_score=False, \n",
    "                            random_state=None, verbose=0, warm_start=False)\n",
    "rf.fit(X_train_pairwise_count, y_train)\n",
    "y_predict = rf.predict_proba(X_test_pairwise_count)\n",
    "print 'auc =', roc_auc_score(y_test, y_predict[:,1])"
   ]
  },
  {
   "cell_type": "markdown",
   "metadata": {},
   "source": [
    "Master of overfitting. \n",
    "\n",
    "Делаем вывод, что считать влоб clicks не очень хорошо. Хуже только забыть удалить y_train из data. "
   ]
  },
  {
   "cell_type": "markdown",
   "metadata": {},
   "source": [
    "#### 3. Возьмите выборку с парными признаками, для которой счетчики посчитаны с фолдингом. Обучите на ней случайный лес, подобрав число деревьев. Какое качество на тестовой выборке он дает? Чем вы можете объяснить изменение результата по сравнению с предыдущим пунктом?"
   ]
  },
  {
   "cell_type": "code",
   "execution_count": 209,
   "metadata": {
    "collapsed": false
   },
   "outputs": [
    {
     "name": "stdout",
     "output_type": "stream",
     "text": [
      "best score = 0.868189142867\n",
      "RandomForestClassifier(bootstrap=True, class_weight=None, criterion='gini',\n",
      "            max_depth=18, max_features='auto', max_leaf_nodes=None,\n",
      "            min_samples_leaf=10, min_samples_split=2,\n",
      "            min_weight_fraction_leaf=0.0, n_estimators=1000, n_jobs=1,\n",
      "            oob_score=False, random_state=None, verbose=0,\n",
      "            warm_start=False)\n"
     ]
    }
   ],
   "source": [
    "cv = KFold(X_train_pairwise_count_fold.shape[0], n_folds=5, shuffle=True)\n",
    "gs = GridSearchCV(RandomForestClassifier(),\n",
    "                  param_grid={'n_estimators': [10, 50, 100, 1000]},\n",
    "                  cv=cv,\n",
    "                  scoring='roc_auc')\n",
    "gs.fit(X_train_pairwise_count_fold, y_train)\n",
    "print 'best score =', gs.best_score_\n",
    "print gs.best_estimator_"
   ]
  },
  {
   "cell_type": "markdown",
   "metadata": {},
   "source": [
    "Запустим на тестовой выборке."
   ]
  },
  {
   "cell_type": "code",
   "execution_count": 211,
   "metadata": {
    "collapsed": false
   },
   "outputs": [
    {
     "name": "stdout",
     "output_type": "stream",
     "text": [
      "auc = 0.857184152205\n"
     ]
    }
   ],
   "source": [
    "rf = RandomForestClassifier(bootstrap=True, class_weight=None, criterion='gini', max_depth=18, max_features='auto', \n",
    "                            max_leaf_nodes=None, min_samples_leaf=10, min_samples_split=2, \n",
    "                            min_weight_fraction_leaf=0.0, n_estimators=1000, n_jobs=1, oob_score=False, \n",
    "                            random_state=None, verbose=0, warm_start=False)\n",
    "rf.fit(X_train_pairwise_count_fold, y_train)\n",
    "y_predict = rf.predict_proba(X_test_pairwise_count_fold)\n",
    "print 'auc =', roc_auc_score(y_test, y_predict[:,1])"
   ]
  },
  {
   "cell_type": "markdown",
   "metadata": {},
   "source": [
    "Видим, что на выборке с фолдингом результат отличается от кросс-валидации незначительно. То есть следует использовать фолдинг при подсчёте counts и clicks, иначе это может привести к переобучению. \n",
    "\n",
    "Наилучший auc (**0.857**) достигнут на случайном лесе с использованием преобразования категориальных признаков и парных признаках.\n",
    "На kNN с помощью своей метрики достигнут результат **0.836**."
   ]
  }
 ],
 "metadata": {
  "kernelspec": {
   "display_name": "Python 2",
   "language": "python",
   "name": "python2"
  },
  "language_info": {
   "codemirror_mode": {
    "name": "ipython",
    "version": 2
   },
   "file_extension": ".py",
   "mimetype": "text/x-python",
   "name": "python",
   "nbconvert_exporter": "python",
   "pygments_lexer": "ipython2",
   "version": "2.7.10"
  }
 },
 "nbformat": 4,
 "nbformat_minor": 0
}
