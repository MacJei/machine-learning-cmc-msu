{
 "cells": [
  {
   "cell_type": "markdown",
   "metadata": {},
   "source": [
    "# Лабораторная работа 1. Язык Python, основные библиотеки для анализа данных."
   ]
  },
  {
   "cell_type": "markdown",
   "metadata": {},
   "source": [
    "ФИО: Каюмов Эмиль Марселевич\n",
    "\n",
    "Группа: 317"
   ]
  },
  {
   "cell_type": "code",
   "execution_count": 1,
   "metadata": {
    "collapsed": true
   },
   "outputs": [],
   "source": [
    "import numpy as np\n",
    "import pandas as pd"
   ]
  },
  {
   "cell_type": "markdown",
   "metadata": {},
   "source": [
    "## Часть 1: Python"
   ]
  },
  {
   "cell_type": "markdown",
   "metadata": {},
   "source": [
    "#### 1. Напишите код, который сформирует список всех натуральных чисел, не превосходящих 100, которые делятся на 7 и не делятся на 5. Нельзя использовать циклы — выполните это задание с помощью list comprehension."
   ]
  },
  {
   "cell_type": "code",
   "execution_count": 2,
   "metadata": {
    "collapsed": false
   },
   "outputs": [
    {
     "data": {
      "text/plain": [
       "[7, 14, 21, 28, 42, 49, 56, 63, 77, 84, 91, 98]"
      ]
     },
     "execution_count": 2,
     "metadata": {},
     "output_type": "execute_result"
    }
   ],
   "source": [
    "[x for x in range(101) if x % 7 == 0 and x % 5 != 0]"
   ]
  },
  {
   "cell_type": "markdown",
   "metadata": {},
   "source": [
    "#### 2. Напишите функцию `sort_tokens(s)`, которая принимает на вход строку, разделяет ее на токены по запятым, сортирует токены с помощью функции `sorted()` и снова соединяет их в одну строку через запятые. Например, для строки `u\"ночь,фонарь,улица\"` функция должна выдать `u\"ночь,улица,фонарь\"`. Придумайте несколько входных строк и протестируйте функцию на них."
   ]
  },
  {
   "cell_type": "markdown",
   "metadata": {},
   "source": [
    "Обратите внимание, что склеить строки можно с помощью конструкции `'x'.join(...)`. Например:"
   ]
  },
  {
   "cell_type": "code",
   "execution_count": 3,
   "metadata": {
    "collapsed": false
   },
   "outputs": [
    {
     "data": {
      "text/plain": [
       "'i! am! very! excited! :-)'"
      ]
     },
     "execution_count": 3,
     "metadata": {},
     "output_type": "execute_result"
    }
   ],
   "source": [
    "'! '.join(['i', 'am', 'very', 'excited', ':-)'])"
   ]
  },
  {
   "cell_type": "code",
   "execution_count": 4,
   "metadata": {
    "collapsed": true
   },
   "outputs": [],
   "source": [
    "def sort_tokens(s):\n",
    "    return ','.join(sorted(s.split(',')))"
   ]
  },
  {
   "cell_type": "code",
   "execution_count": 5,
   "metadata": {
    "collapsed": false
   },
   "outputs": [
    {
     "data": {
      "text/plain": [
       "'ночь,улица,фонарь'"
      ]
     },
     "execution_count": 5,
     "metadata": {},
     "output_type": "execute_result"
    }
   ],
   "source": [
    "sort_tokens(\"ночь,фонарь,улица\")"
   ]
  },
  {
   "cell_type": "markdown",
   "metadata": {},
   "source": [
    "#### 3. Напишите функцию `remove_duplicates(a)`, которая принимает на вход список и возвращает его же, но без дубликатов и в отсортированном виде. Например, для списка `[u\"ночь\", u\"улица\", u\"фонарь\", u\"аптека\", u\"аптека\", u\"улица\", u\"фонарь\"]` результат должен быть `[u\"аптека\", u\"ночь\", u\"улица\", u\"фонарь\", ]`."
   ]
  },
  {
   "cell_type": "markdown",
   "metadata": {},
   "source": [
    "Подсказка: обратите внимание на структуру `set`!"
   ]
  },
  {
   "cell_type": "code",
   "execution_count": 6,
   "metadata": {
    "collapsed": false
   },
   "outputs": [],
   "source": [
    "def remove_duplicates(a):\n",
    "    return sorted(list(set(a)))"
   ]
  },
  {
   "cell_type": "code",
   "execution_count": 7,
   "metadata": {
    "collapsed": false
   },
   "outputs": [
    {
     "data": {
      "text/plain": [
       "['аптека', 'ночь', 'улица', 'фонарь']"
      ]
     },
     "execution_count": 7,
     "metadata": {},
     "output_type": "execute_result"
    }
   ],
   "source": [
    "remove_duplicates([\"ночь\", \"улица\", \"фонарь\", \"аптека\", \"аптека\", \"улица\", \"фонарь\"])"
   ]
  },
  {
   "cell_type": "markdown",
   "metadata": {},
   "source": [
    "#### 4. Напишите функцию `word_counts(texts)`, которая принимает на вход список строк, и печатает пары (слово, число вхождений). Считайте, что слова в текстах могут быть разделены только пробелами. Например, для входа `[u'ночь улица фонарь аптека', u'аптека улица фонарь']` должно быть напечатано\n",
    ">аптека 2\n",
    "\n",
    ">улица 2\n",
    "\n",
    ">фонарь 2\n",
    "\n",
    ">ночь 1"
   ]
  },
  {
   "cell_type": "markdown",
   "metadata": {},
   "source": [
    "Подсказки:\n",
    "\n",
    "Чтобы разбить каждый из текстов на слова, воспользуйтесь функцией `map`, которая применяет заданную функцию к каждому элементу списка. Например, если бы нужно было каждый из текстов привести к нижнему регистру, то команда выглядела бы так:"
   ]
  },
  {
   "cell_type": "code",
   "execution_count": 8,
   "metadata": {
    "collapsed": false
   },
   "outputs": [
    {
     "data": {
      "text/plain": [
       "['abcdefg', 'hijkl']"
      ]
     },
     "execution_count": 8,
     "metadata": {},
     "output_type": "execute_result"
    }
   ],
   "source": [
    "list(map(lambda x: x.lower(), [\"abCDefg\", \"HIjkL\"]))"
   ]
  },
  {
   "cell_type": "markdown",
   "metadata": {},
   "source": [
    "После первого шага вы получите список, состоящий из списков слов. Чтобы объединить их в один список слов, воспользуйтесь функцией `reduce`. Например, просуммировать числа из списка с ее помощью можно так:\n",
    "\n"
   ]
  },
  {
   "cell_type": "code",
   "execution_count": 9,
   "metadata": {
    "collapsed": false
   },
   "outputs": [
    {
     "data": {
      "text/plain": [
       "15"
      ]
     },
     "execution_count": 9,
     "metadata": {},
     "output_type": "execute_result"
    }
   ],
   "source": [
    "from functools import reduce\n",
    "reduce(lambda x, y: x + y, [1, 2, 3, 4, 5])"
   ]
  },
  {
   "cell_type": "markdown",
   "metadata": {},
   "source": [
    "Для подсчета количества вхождений слов воспользуйтесь структурой `defaultdict` из модуля `collections`. В отличие от обычного `dict`, она не генерирует ошибку при обращении к несуществущему ключу, а создает новую запись, инициализируемую нулевым значением. Например:"
   ]
  },
  {
   "cell_type": "code",
   "execution_count": 10,
   "metadata": {
    "collapsed": false
   },
   "outputs": [
    {
     "name": "stdout",
     "output_type": "stream",
     "text": [
      "defaultdict(<class 'int'>, {})\n",
      "defaultdict(<class 'int'>, {'abc': 1})\n",
      "defaultdict(<class 'int'>, {'xxx': 0, 'abc': 1})\n"
     ]
    }
   ],
   "source": [
    "from collections import defaultdict\n",
    "d = defaultdict(int)\n",
    "print(d)\n",
    "d['abc'] += 1\n",
    "print(d)\n",
    "d['xxx']\n",
    "print(d)"
   ]
  },
  {
   "cell_type": "code",
   "execution_count": 11,
   "metadata": {
    "collapsed": false
   },
   "outputs": [],
   "source": [
    "def word_counts(texts):\n",
    "    s = list(map(lambda x: x.split(' '), texts))\n",
    "    s = reduce(lambda x, y: x + y, s, [])\n",
    "    words = defaultdict(int)\n",
    "    for i in s:\n",
    "        words[i] += 1\n",
    "    for i in sorted(words.keys()):\n",
    "        print(i, words[i])"
   ]
  },
  {
   "cell_type": "code",
   "execution_count": 12,
   "metadata": {
    "collapsed": false
   },
   "outputs": [
    {
     "name": "stdout",
     "output_type": "stream",
     "text": [
      "аптека 2\n",
      "ночь 1\n",
      "улица 2\n",
      "фонарь 2\n"
     ]
    }
   ],
   "source": [
    "word_counts(['ночь улица фонарь аптека', 'аптека улица фонарь'])"
   ]
  },
  {
   "cell_type": "markdown",
   "metadata": {},
   "source": [
    "#### 5. (бонусное задание) Скачайте английский перевод \"Преступления и наказания\". Найдите 20 самых популярных слов и 20 слов, которые встречаются только один раз."
   ]
  },
  {
   "cell_type": "markdown",
   "metadata": {},
   "source": [
    "Приведите текст к нижнему регистру. Удалите из него все специальные символы и цифры. Разделите текст на слова, считая разделителями все, кроме букв. Обратите внимание на функцию `split` из модуля `re`.\n",
    "\n",
    "Не забудьте удалить пустые слова:\n",
    "```\n",
    "words = filter(lambda x: len(x) > 0, words)\n",
    "```"
   ]
  },
  {
   "cell_type": "code",
   "execution_count": 13,
   "metadata": {
    "collapsed": true
   },
   "outputs": [],
   "source": [
    "from urllib.request import urlopen\n",
    "from re import split\n",
    "url = \"http://www.gutenberg.org/files/2554/2554.txt\"\n",
    "response = urlopen(url)\n",
    "raw_text = response.read().decode('utf8')"
   ]
  },
  {
   "cell_type": "code",
   "execution_count": 14,
   "metadata": {
    "collapsed": false
   },
   "outputs": [],
   "source": [
    "words = list(map(lambda x: x.lower(), split('\\W+', raw_text)))\n",
    "words = list(filter(lambda x: len(x) > 0, words))\n",
    "words_dict = defaultdict(int)\n",
    "for i in words:\n",
    "    words_dict[i] += 1"
   ]
  },
  {
   "cell_type": "code",
   "execution_count": 15,
   "metadata": {
    "collapsed": true
   },
   "outputs": [],
   "source": [
    "words_list = np.array(list(words_dict.keys()))\n",
    "words_count = np.array(list(words_dict.values()))\n",
    "words_list = words_list[words_count.argsort()[::-1]]"
   ]
  },
  {
   "cell_type": "code",
   "execution_count": 16,
   "metadata": {
    "collapsed": false
   },
   "outputs": [
    {
     "name": "stdout",
     "output_type": "stream",
     "text": [
      "20 самых встречаемых слов:\n",
      "1. the\n",
      "2. and\n",
      "3. to\n",
      "4. he\n",
      "5. a\n",
      "6. i\n",
      "7. you\n",
      "8. of\n",
      "9. it\n",
      "10. that\n",
      "11. in\n",
      "12. was\n",
      "13. his\n",
      "14. at\n",
      "15. her\n",
      "16. but\n",
      "17. not\n",
      "18. s\n",
      "19. with\n",
      "20. she\n"
     ]
    }
   ],
   "source": [
    "print('20 самых встречаемых слов:')\n",
    "for i in range(20):\n",
    "    print(i+1, '. ', words_list[i], sep='')"
   ]
  },
  {
   "cell_type": "code",
   "execution_count": 17,
   "metadata": {
    "collapsed": false
   },
   "outputs": [
    {
     "name": "stdout",
     "output_type": "stream",
     "text": [
      "20 слов, встречающихся один раз:\n",
      "1. graveclothes\n",
      "2. stroke\n",
      "3. resembled\n",
      "4. embankment\n",
      "5. criticise\n",
      "6. ceremonious\n",
      "7. tyrant\n",
      "8. wreaths\n",
      "9. criers\n",
      "10. attach\n",
      "11. punctiliousness\n",
      "12. redeemer\n",
      "13. devour\n",
      "14. maiden\n",
      "15. surmise\n",
      "16. signalling\n",
      "17. presentiments\n",
      "18. wreathed\n",
      "19. proclaim\n",
      "20. commented\n"
     ]
    }
   ],
   "source": [
    "print('20 слов, встречающихся один раз:')\n",
    "for i in range(20):\n",
    "    print(i+1, '. ', words_list[-(i+1)], sep='')"
   ]
  },
  {
   "cell_type": "markdown",
   "metadata": {},
   "source": [
    "## Часть 2: NumPy и SciPy"
   ]
  },
  {
   "cell_type": "markdown",
   "metadata": {},
   "source": [
    "#### 1. Повторите 1000 раз следующий эксперимент: сгенерируйте две матрицы размера $10 \\times 10$ из стандартного нормального распределения, перемножьте их (как матрицы) и найдите максимальный элемент. Какое среднее значение по экспериментам у максимальных элементов? 95-процентная квантиль?"
   ]
  },
  {
   "cell_type": "markdown",
   "metadata": {},
   "source": [
    "Для вычисления квантили воспользуйтесь функцией `np.percentile`"
   ]
  },
  {
   "cell_type": "code",
   "execution_count": 18,
   "metadata": {
    "collapsed": false
   },
   "outputs": [
    {
     "name": "stdout",
     "output_type": "stream",
     "text": [
      "max average = 8.41445271949\n",
      "95% quantile = 12.1333313206\n"
     ]
    }
   ],
   "source": [
    "max_element = np.zeros(0)\n",
    "for i in range(1000):\n",
    "    matrix1 = np.random.randn(10, 10)\n",
    "    matrix2 = np.random.randn(10, 10)\n",
    "    matrix3 = np.dot(matrix1, matrix2)\n",
    "    max_element = np.append(max_element, matrix3.max())\n",
    "print('max average =', max_element.mean())\n",
    "print('95% quantile =', np.percentile(max_element, 95))"
   ]
  },
  {
   "cell_type": "markdown",
   "metadata": {},
   "source": [
    "#### 2. Сгенерируйте 1000 чисел из распределения Пуассона с параметром $\\lambda = 5$. Сформируйте массив, в котором в i-м элементе будет записано количество сгенерированных чисел, равных i."
   ]
  },
  {
   "cell_type": "markdown",
   "metadata": {},
   "source": [
    "Обратите внимание на функцию `np.bincount`"
   ]
  },
  {
   "cell_type": "code",
   "execution_count": 19,
   "metadata": {
    "collapsed": false
   },
   "outputs": [
    {
     "name": "stdout",
     "output_type": "stream",
     "text": [
      "[ 10  39  90 135 167 154 154 104  69  37  22  11   2   2   4]\n"
     ]
    }
   ],
   "source": [
    "numbers = np.array(np.random.poisson(lam=5, size=1000))\n",
    "count = np.bincount(numbers)\n",
    "print(count)"
   ]
  },
  {
   "cell_type": "markdown",
   "metadata": {},
   "source": [
    "#### 3. Реализуйте функцию, которая принимает на вход numpy-массив целых чисел `a`, и генерирует массив, в котором число `i` встречается `a[i]` раз. Протестируйте на результате из прошлого задания."
   ]
  },
  {
   "cell_type": "markdown",
   "metadata": {},
   "source": [
    "Обратите внимание на функцию `np.repeat`"
   ]
  },
  {
   "cell_type": "code",
   "execution_count": 20,
   "metadata": {
    "collapsed": false
   },
   "outputs": [],
   "source": [
    "def repeat_number(x):\n",
    "    return np.repeat(range(1, len(x)+1), x)"
   ]
  },
  {
   "cell_type": "code",
   "execution_count": 21,
   "metadata": {
    "collapsed": false
   },
   "outputs": [
    {
     "name": "stdout",
     "output_type": "stream",
     "text": [
      "[ 1  1  1  1  1  1  1  1  1  1  2  2  2  2  2  2  2  2  2  2  2  2  2  2  2\n",
      "  2  2  2  2  2  2  2  2  2  2  2  2  2  2  2  2  2  2  2  2  2  2  2  2  3\n",
      "  3  3  3  3  3  3  3  3  3  3  3  3  3  3  3  3  3  3  3  3  3  3  3  3  3\n",
      "  3  3  3  3  3  3  3  3  3  3  3  3  3  3  3  3  3  3  3  3  3  3  3  3  3\n",
      "  3  3  3  3  3  3  3  3  3  3  3  3  3  3  3  3  3  3  3  3  3  3  3  3  3\n",
      "  3  3  3  3  3  3  3  3  3  3  3  3  3  3  4  4  4  4  4  4  4  4  4  4  4\n",
      "  4  4  4  4  4  4  4  4  4  4  4  4  4  4  4  4  4  4  4  4  4  4  4  4  4\n",
      "  4  4  4  4  4  4  4  4  4  4  4  4  4  4  4  4  4  4  4  4  4  4  4  4  4\n",
      "  4  4  4  4  4  4  4  4  4  4  4  4  4  4  4  4  4  4  4  4  4  4  4  4  4\n",
      "  4  4  4  4  4  4  4  4  4  4  4  4  4  4  4  4  4  4  4  4  4  4  4  4  4\n",
      "  4  4  4  4  4  4  4  4  4  4  4  4  4  4  4  4  4  4  4  4  4  4  4  4  5\n",
      "  5  5  5  5  5  5  5  5  5  5  5  5  5  5  5  5  5  5  5  5  5  5  5  5  5\n",
      "  5  5  5  5  5  5  5  5  5  5  5  5  5  5  5  5  5  5  5  5  5  5  5  5  5\n",
      "  5  5  5  5  5  5  5  5  5  5  5  5  5  5  5  5  5  5  5  5  5  5  5  5  5\n",
      "  5  5  5  5  5  5  5  5  5  5  5  5  5  5  5  5  5  5  5  5  5  5  5  5  5\n",
      "  5  5  5  5  5  5  5  5  5  5  5  5  5  5  5  5  5  5  5  5  5  5  5  5  5\n",
      "  5  5  5  5  5  5  5  5  5  5  5  5  5  5  5  5  5  5  5  5  5  5  5  5  5\n",
      "  5  5  5  5  5  5  5  5  5  5  5  5  5  5  5  5  6  6  6  6  6  6  6  6  6\n",
      "  6  6  6  6  6  6  6  6  6  6  6  6  6  6  6  6  6  6  6  6  6  6  6  6  6\n",
      "  6  6  6  6  6  6  6  6  6  6  6  6  6  6  6  6  6  6  6  6  6  6  6  6  6\n",
      "  6  6  6  6  6  6  6  6  6  6  6  6  6  6  6  6  6  6  6  6  6  6  6  6  6\n",
      "  6  6  6  6  6  6  6  6  6  6  6  6  6  6  6  6  6  6  6  6  6  6  6  6  6\n",
      "  6  6  6  6  6  6  6  6  6  6  6  6  6  6  6  6  6  6  6  6  6  6  6  6  6\n",
      "  6  6  6  6  6  6  6  6  6  6  6  6  6  6  6  6  6  6  6  6  7  7  7  7  7\n",
      "  7  7  7  7  7  7  7  7  7  7  7  7  7  7  7  7  7  7  7  7  7  7  7  7  7\n",
      "  7  7  7  7  7  7  7  7  7  7  7  7  7  7  7  7  7  7  7  7  7  7  7  7  7\n",
      "  7  7  7  7  7  7  7  7  7  7  7  7  7  7  7  7  7  7  7  7  7  7  7  7  7\n",
      "  7  7  7  7  7  7  7  7  7  7  7  7  7  7  7  7  7  7  7  7  7  7  7  7  7\n",
      "  7  7  7  7  7  7  7  7  7  7  7  7  7  7  7  7  7  7  7  7  7  7  7  7  7\n",
      "  7  7  7  7  7  7  7  7  7  7  7  7  7  7  7  7  7  7  7  7  7  7  7  7  8\n",
      "  8  8  8  8  8  8  8  8  8  8  8  8  8  8  8  8  8  8  8  8  8  8  8  8  8\n",
      "  8  8  8  8  8  8  8  8  8  8  8  8  8  8  8  8  8  8  8  8  8  8  8  8  8\n",
      "  8  8  8  8  8  8  8  8  8  8  8  8  8  8  8  8  8  8  8  8  8  8  8  8  8\n",
      "  8  8  8  8  8  8  8  8  8  8  8  8  8  8  8  8  8  8  8  8  8  8  8  8  8\n",
      "  8  8  8  9  9  9  9  9  9  9  9  9  9  9  9  9  9  9  9  9  9  9  9  9  9\n",
      "  9  9  9  9  9  9  9  9  9  9  9  9  9  9  9  9  9  9  9  9  9  9  9  9  9\n",
      "  9  9  9  9  9  9  9  9  9  9  9  9  9  9  9  9  9  9  9  9  9  9 10 10 10\n",
      " 10 10 10 10 10 10 10 10 10 10 10 10 10 10 10 10 10 10 10 10 10 10 10 10 10\n",
      " 10 10 10 10 10 10 10 10 10 11 11 11 11 11 11 11 11 11 11 11 11 11 11 11 11\n",
      " 11 11 11 11 11 11 12 12 12 12 12 12 12 12 12 12 12 13 13 14 14 15 15 15 15]\n"
     ]
    }
   ],
   "source": [
    "print(repeat_number(count))"
   ]
  },
  {
   "cell_type": "markdown",
   "metadata": {},
   "source": [
    "#### 4. Напишите функцию `scale(X)`, которая принимает на вход матрицу и масштабирует каждый ее столбец (вычитает среднее и делит на стандартное отклонение). Убедитесь, что в функции не будет происходить деления на ноль. Протестируйте на каких-нибудь данных."
   ]
  },
  {
   "cell_type": "code",
   "execution_count": 22,
   "metadata": {
    "collapsed": false
   },
   "outputs": [],
   "source": [
    "def scale(X):\n",
    "    for i in range(X.shape[1]):\n",
    "        #print(X[:,i].mean())\n",
    "        X[:,i] -= X[:,i].mean()\n",
    "        #print(X[:,i])\n",
    "        std = X[:,i].std()\n",
    "        if std > 0:\n",
    "            X[:,i] /= std\n",
    "    return(X)"
   ]
  },
  {
   "cell_type": "code",
   "execution_count": 23,
   "metadata": {
    "collapsed": false
   },
   "outputs": [
    {
     "name": "stdout",
     "output_type": "stream",
     "text": [
      "[[-1.0791069   1.19291051  1.13830678 -0.47732217 -1.50454269  0.6943768 ]\n",
      " [ 0.10097177 -1.01791658 -1.02877584  1.56475523  0.5987716  -0.40113429]\n",
      " [-1.20564924  0.39688947  1.06834436 -1.15169648 -1.14410305 -1.08912589]\n",
      " [-0.19463253  0.70024706  0.59606864 -0.09349432  0.94671343 -1.13980303]\n",
      " [ 1.69191494  0.38466617 -0.35041725  1.07288966  1.08266603  1.67429387]\n",
      " [ 0.68650195 -1.65679663 -1.42352669 -0.91513192  0.02049468  0.26139253]]\n"
     ]
    }
   ],
   "source": [
    "X = np.random.rand(6, 6)\n",
    "print(scale(X))"
   ]
  },
  {
   "cell_type": "markdown",
   "metadata": {},
   "source": [
    "#### 5. Сгенерируйте матрицу с элементами из нормального распределения $\\mathcal{N}(10, 1)$. Найдите ее:\n",
    "- определитель\n",
    "- след\n",
    "- наименьший и наибольший элементы\n",
    "- спектральную норму\n",
    "- норму Фробениуса\n",
    "- собственные числа\n",
    "- обратную матрицу"
   ]
  },
  {
   "cell_type": "code",
   "execution_count": 24,
   "metadata": {
    "collapsed": false
   },
   "outputs": [
    {
     "name": "stdout",
     "output_type": "stream",
     "text": [
      "det(X) = 28.0597155029\n",
      "trace(X) = 33.1784503462\n",
      "max element = 12.2692483535\n",
      "min element = 9.47614086329\n",
      "spectral norm = 32.1598088668\n",
      "fro norm = 32.1985815109\n",
      "eigvals =  [ 32.12158306+0.j           0.52843364+0.77091178j   0.52843364-0.77091178j]\n",
      "inverse matrix = [[ 0.19714801 -0.87125892  0.69952124]\n",
      " [ 0.33025181  0.75841532 -0.99653612]\n",
      " [-0.45755373  0.15288674  0.28542564]]\n"
     ]
    }
   ],
   "source": [
    "X = np.random.normal(loc=10.0, scale=1.0, size=(3, 3))\n",
    "print('det(X) =', np.linalg.det(X))\n",
    "print('trace(X) =', X.trace())\n",
    "print('max element =', X.max())\n",
    "print('min element =', X.min())\n",
    "print('spectral norm =', np.linalg.norm(X, ord=2))\n",
    "print('fro norm =', np.linalg.norm(X, ord='fro'))\n",
    "print('eigvals = ', np.linalg.eigvals(X))\n",
    "print('inverse matrix =', np.linalg.inv(X))"
   ]
  },
  {
   "cell_type": "markdown",
   "metadata": {},
   "source": [
    "## Часть 3: Pandas"
   ]
  },
  {
   "cell_type": "markdown",
   "metadata": {},
   "source": [
    "#### Ответьте на вопросы о данных по авиарейсам в США за январь-апрель 2008 года.\n",
    "\n",
    "Данные: http://stat-computing.org/dataexpo/2009/2008.csv.bz2\n",
    "(обратите внимание, что распаковывать этот файл не обязательно — функция `pandas.read_csv` умеет читать из архивов автоматически)\n",
    "\n",
    "Описание: http://stat-computing.org/dataexpo/2009/the-data.html\n",
    "\n",
    "1. Какая из причин отмены рейса (`CancellationCode`) была самой частой? (расшифровки кодов можно найти в описании данных)\n",
    "2. Найдите среднее, минимальное и максимальное расстояние, пройденное самолетом.\n",
    "3. Не выглядит ли подозрительным минимальное пройденное расстояние? В какие дни и на каких рейсах оно было? Какое расстояние было пройдено этими же рейсами в другие дни?\n",
    "4. Из какого аэропорта было произведено больше всего вылетов? В каком городе он находится?\n",
    "5. Найдите для каждого аэропорта среднее время полета (`AirTime`) по всем вылетевшим из него рейсам. Какой аэропорт имеет наибольшее значение этого показателя?\n",
    "6. Найдите аэропорт, у которого наибольшая доля задержанных (`DepDelay > 0`) рейсов. Исключите при этом из рассмотрения аэропорты, из которых было отправлено меньше 1000 рейсов (используйте функцию `filter` после `groupby`)."
   ]
  },
  {
   "cell_type": "code",
   "execution_count": 25,
   "metadata": {
    "collapsed": false
   },
   "outputs": [],
   "source": [
    "data = pd.read_csv('2008.csv.bz2')"
   ]
  },
  {
   "cell_type": "markdown",
   "metadata": {},
   "source": [
    "#### 1. Самая частая причина отмены рейсов"
   ]
  },
  {
   "cell_type": "code",
   "execution_count": 26,
   "metadata": {
    "collapsed": false
   },
   "outputs": [
    {
     "name": "stdout",
     "output_type": "stream",
     "text": [
      "самая частая причина отмены:  B\n",
      "B - погода\n"
     ]
    }
   ],
   "source": [
    "print('самая частая причина отмены: ', data.groupby('CancellationCode').size().argmax())\n",
    "print('B - погода')"
   ]
  },
  {
   "cell_type": "markdown",
   "metadata": {},
   "source": [
    "#### 2. Среднее, минимальное и максимальное расстояния, пройденные самолётами, в милях"
   ]
  },
  {
   "cell_type": "code",
   "execution_count": 27,
   "metadata": {
    "collapsed": false
   },
   "outputs": [
    {
     "name": "stdout",
     "output_type": "stream",
     "text": [
      "среднее расстояние: 726.3870294253928\n",
      "минимальное расстояние: 11\n",
      "максимальное расстояние: 4962\n"
     ]
    }
   ],
   "source": [
    "print('среднее расстояние:', data['Distance'].mean())\n",
    "print('минимальное расстояние:', data['Distance'].min())\n",
    "print('максимальное расстояние:', data['Distance'].max())"
   ]
  },
  {
   "cell_type": "markdown",
   "metadata": {},
   "source": [
    "#### 3. Подозрительно короткий маршрут"
   ]
  },
  {
   "cell_type": "code",
   "execution_count": 28,
   "metadata": {
    "collapsed": false
   },
   "outputs": [
    {
     "data": {
      "text/html": [
       "<div>\n",
       "<table border=\"1\" class=\"dataframe\">\n",
       "  <thead>\n",
       "    <tr style=\"text-align: right;\">\n",
       "      <th></th>\n",
       "      <th>Year</th>\n",
       "      <th>Month</th>\n",
       "      <th>DayofMonth</th>\n",
       "      <th>Distance</th>\n",
       "      <th>FlightNum</th>\n",
       "    </tr>\n",
       "  </thead>\n",
       "  <tbody>\n",
       "    <tr>\n",
       "      <th>2547298</th>\n",
       "      <td>2008</td>\n",
       "      <td>5</td>\n",
       "      <td>15</td>\n",
       "      <td>11</td>\n",
       "      <td>4988</td>\n",
       "    </tr>\n",
       "    <tr>\n",
       "      <th>4392215</th>\n",
       "      <td>2008</td>\n",
       "      <td>8</td>\n",
       "      <td>10</td>\n",
       "      <td>11</td>\n",
       "      <td>5572</td>\n",
       "    </tr>\n",
       "  </tbody>\n",
       "</table>\n",
       "</div>"
      ],
      "text/plain": [
       "         Year  Month  DayofMonth  Distance  FlightNum\n",
       "2547298  2008      5          15        11       4988\n",
       "4392215  2008      8          10        11       5572"
      ]
     },
     "execution_count": 28,
     "metadata": {},
     "output_type": "execute_result"
    }
   ],
   "source": [
    "data[data['Distance'] == data['Distance'].min()][['Year', 'Month', 'DayofMonth', 'Distance', 'FlightNum']]"
   ]
  },
  {
   "cell_type": "code",
   "execution_count": 29,
   "metadata": {
    "collapsed": false
   },
   "outputs": [
    {
     "name": "stdout",
     "output_type": "stream",
     "text": [
      "средняя длина этих рейсов:\n",
      "4988: 770.2088888888889\n",
      "5572: 384.75181598062954\n"
     ]
    }
   ],
   "source": [
    "print('средняя длина этих рейсов:')\n",
    "print('4988:', data[data['FlightNum'] == 4988]['Distance'].mean())\n",
    "print('5572:', data[data['FlightNum'] == 5572]['Distance'].mean())"
   ]
  },
  {
   "cell_type": "markdown",
   "metadata": {},
   "source": [
    "#### 4. Аэропорт с наибольшим числов вылетов"
   ]
  },
  {
   "cell_type": "code",
   "execution_count": 30,
   "metadata": {
    "collapsed": false
   },
   "outputs": [
    {
     "name": "stdout",
     "output_type": "stream",
     "text": [
      "больше всего вылетов из: ATL\n",
      "количество вылетов: 414513\n",
      "ATL: William B Hartsfield-Atlanta Intl Atlanta USA\n"
     ]
    }
   ],
   "source": [
    "print('больше всего вылетов из:', data.groupby('Origin').size().argmax())\n",
    "print('количество вылетов:', data.groupby('Origin').size().max())\n",
    "print('ATL:', 'William B Hartsfield-Atlanta Intl', 'Atlanta', 'USA')"
   ]
  },
  {
   "cell_type": "markdown",
   "metadata": {},
   "source": [
    "#### 5. Среднее время полёта по аэропортам отправления"
   ]
  },
  {
   "cell_type": "code",
   "execution_count": 31,
   "metadata": {
    "collapsed": false
   },
   "outputs": [
    {
     "name": "stdout",
     "output_type": "stream",
     "text": [
      "Origin\n",
      "ABE     89.057518\n",
      "ABI     36.789977\n",
      "ABQ     91.657166\n",
      "ABY     35.379759\n",
      "ACK     50.692124\n",
      "ACT     29.875977\n",
      "ACV     58.850658\n",
      "ACY    108.848214\n",
      "ADK    151.423913\n",
      "ADQ     41.987934\n",
      "AEX     68.543556\n",
      "AGS     36.933814\n",
      "AKN     37.321429\n",
      "ALB    101.860527\n",
      "ALO     36.373134\n",
      "AMA     56.196001\n",
      "ANC    156.163749\n",
      "ASE     48.307996\n",
      "ATL     93.320419\n",
      "ATW     50.696326\n",
      "AUS    101.266600\n",
      "AVL     69.899021\n",
      "AVP     94.665204\n",
      "AZO     34.846602\n",
      "BDL    118.701612\n",
      "BET     57.597815\n",
      "BFL     64.024511\n",
      "BGM     66.582260\n",
      "BGR     90.211095\n",
      "BHM     82.290713\n",
      "          ...    \n",
      "SPS     29.490040\n",
      "SRQ    103.083807\n",
      "STL     99.294409\n",
      "STT    168.681929\n",
      "STX    168.101176\n",
      "SUN     48.221851\n",
      "SUX     44.918919\n",
      "SWF    132.768826\n",
      "SYR     84.524087\n",
      "TEX     93.124183\n",
      "TLH     59.293080\n",
      "TOL     48.295047\n",
      "TPA    117.917963\n",
      "TRI     47.871046\n",
      "TUL     80.876802\n",
      "TUP     42.900000\n",
      "TUS     92.801864\n",
      "TVC     49.328770\n",
      "TWF     41.316563\n",
      "TXK     43.796312\n",
      "TYR     30.372715\n",
      "TYS     81.030894\n",
      "VLD     45.158351\n",
      "VPS     75.231116\n",
      "WRG     16.741606\n",
      "WYS     62.961977\n",
      "XNA     84.253180\n",
      "YAK     36.372159\n",
      "YKM     80.697329\n",
      "YUM     48.876952\n",
      "Name: AirTime, dtype: float64\n"
     ]
    }
   ],
   "source": [
    "print(data.groupby('Origin').mean()['AirTime'])"
   ]
  },
  {
   "cell_type": "code",
   "execution_count": 32,
   "metadata": {
    "collapsed": false
   },
   "outputs": [
    {
     "name": "stdout",
     "output_type": "stream",
     "text": [
      "наибольший показатель: SJU\n",
      "Luis Munoz Marin International San Juan USA\n"
     ]
    }
   ],
   "source": [
    "print('наибольший показатель:', data.groupby('Origin').mean()['AirTime'].argmax())\n",
    "print('Luis Munoz Marin International', 'San Juan', 'USA')"
   ]
  },
  {
   "cell_type": "markdown",
   "metadata": {},
   "source": [
    "#### 6. Наибольшая доля задержанных рейсов"
   ]
  },
  {
   "cell_type": "code",
   "execution_count": 33,
   "metadata": {
    "collapsed": false
   },
   "outputs": [],
   "source": [
    "airports = data.groupby('Origin').filter(lambda x: x['Origin'].count() >= 1000).groupby('Origin')"
   ]
  },
  {
   "cell_type": "code",
   "execution_count": 34,
   "metadata": {
    "collapsed": false
   },
   "outputs": [],
   "source": [
    "name_airport = np.zeros(0, dtype=str)\n",
    "delay_airport = np.zeros(0, dtype=float)\n",
    "\n",
    "for airport in airports:\n",
    "    name_airport = np.append(name_airport, airport[0])\n",
    "    delay_airport = np.append(delay_airport, np.sum(airport[1]['DepDelay'] > 0) / len(airport[1]))\n"
   ]
  },
  {
   "cell_type": "code",
   "execution_count": 35,
   "metadata": {
    "collapsed": false
   },
   "outputs": [
    {
     "name": "stdout",
     "output_type": "stream",
     "text": [
      "аэропорт с наибольшей долей задержанных рейсов: DAL\n",
      "доля задержанных рейсов 0.578641892894\n"
     ]
    }
   ],
   "source": [
    "print('аэропорт с наибольшей долей задержанных рейсов:', name_airport[delay_airport.argmax()])\n",
    "print('доля задержанных рейсов', delay_airport.max())\n"
   ]
  },
  {
   "cell_type": "code",
   "execution_count": null,
   "metadata": {
    "collapsed": true
   },
   "outputs": [],
   "source": []
  }
 ],
 "metadata": {
  "kernelspec": {
   "display_name": "Python 3",
   "language": "python",
   "name": "python3"
  },
  "language_info": {
   "codemirror_mode": {
    "name": "ipython",
    "version": 3
   },
   "file_extension": ".py",
   "mimetype": "text/x-python",
   "name": "python",
   "nbconvert_exporter": "python",
   "pygments_lexer": "ipython3",
   "version": "3.4.3"
  }
 },
 "nbformat": 4,
 "nbformat_minor": 0
}
